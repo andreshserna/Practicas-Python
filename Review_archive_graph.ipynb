{
  "nbformat": 4,
  "nbformat_minor": 0,
  "metadata": {
    "colab": {
      "provenance": [],
      "authorship_tag": "ABX9TyOM+NRftopmhkI6CiiVch8L",
      "include_colab_link": true
    },
    "kernelspec": {
      "name": "python3",
      "display_name": "Python 3"
    }
  },
  "cells": [
    {
      "cell_type": "markdown",
      "metadata": {
        "id": "view-in-github",
        "colab_type": "text"
      },
      "source": [
        "<a href=\"https://colab.research.google.com/github/andreshserna/Practicas-Python/blob/main/Review_archive_graph.ipynb\" target=\"_parent\"><img src=\"https://colab.research.google.com/assets/colab-badge.svg\" alt=\"Open In Colab\"/></a>"
      ]
    },
    {
      "cell_type": "code",
      "metadata": {
        "colab": {
          "base_uri": "https://localhost:8080/",
          "height": 314
        },
        "id": "FMPPq4VSyjeE",
        "outputId": "3567387c-033c-4a67-b4f0-d788a6d1703f"
      },
      "source": [
        "import numpy as np\n",
        "import numpy.random as rnd\n",
        "import matplotlib.pyplot as plt\n",
        "\n",
        "'''\n",
        " Codigo capaz de hallar y graficar el numero de atomos\n",
        " en una muestra radioactiva.\n",
        "\n",
        " Se usa un número total de átomos inicial, una probabilidad\n",
        " y un número aleatorio.\n",
        "'''\n",
        "\n",
        "# TotalAtm registra el total de átomos.\n",
        "# subTotalAtm se usa para ver cuánto se han reducido\n",
        "# en cada vuelta.\n",
        "TotalAtm = int(input(\"Introduzca el numero total de atomos: \"))\n",
        "subTotalAtm = TotalAtm\n",
        "# Constante de decaimiento.\n",
        "Lambda = float(input(\"Introduzca el Lamda de la desintegracion radioactiva: \"))\n",
        "\n",
        "# Número de pasos de tiempo.\n",
        "MaxT = 220\n",
        "# Arreglo de cambios\n",
        "Cambios = np.zeros(MaxT, dtype=np.int32)\n",
        "Cambios[0] = TotalAtm\n",
        "\n",
        "tiempo = 1\n",
        "\n",
        "while tiempo < MaxT:\n",
        "\n",
        "    # Se itera sobre los 'átomos'.\n",
        "    for atomo in range(0, TotalAtm):\n",
        "        # Si la probabilidad de decaimiento es mayor que el número elegido,\n",
        "        # se decrementa el conteo auxiliar de átomos.\n",
        "        if (Lambda >= rnd.random()):\n",
        "            subTotalAtm -= 1 \n",
        "\n",
        "    TotalAtm = subTotalAtm\n",
        "    Cambios[tiempo] = TotalAtm\n",
        "    tiempo += 1\n",
        "\n",
        "plt.xlabel(\"Tiempo\")\n",
        "plt.ylabel(\"N\")\n",
        "\n",
        "plt.plot(Cambios, 'b.')\n",
        "plt.show()\n"
      ],
      "execution_count": null,
      "outputs": [
        {
          "output_type": "stream",
          "text": [
            "Introduzca el numero total de atomos: 40\n",
            "Introduzca el Lamda de la desintegracion radioactiva: 0.08\n"
          ],
          "name": "stdout"
        },
        {
          "output_type": "display_data",
          "data": {
            "image/png": "[encoded data removed]",
            "text/plain": [
              "<Figure size 432x288 with 1 Axes>"
            ]
          },
          "metadata": {
            "tags": [],
            "needs_background": "light"
          }
        }
      ]
    }
  ]
}