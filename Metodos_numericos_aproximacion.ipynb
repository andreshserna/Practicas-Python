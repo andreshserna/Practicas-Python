{
  "nbformat": 4,
  "nbformat_minor": 0,
  "metadata": {
    "colab": {
      "provenance": [],
      "authorship_tag": "ABX9TyMaekO0QtMzXaXC29tKKmqx",
      "include_colab_link": true
    },
    "kernelspec": {
      "name": "python3",
      "display_name": "Python 3"
    }
  },
  "cells": [
    {
      "cell_type": "markdown",
      "metadata": {
        "id": "view-in-github",
        "colab_type": "text"
      },
      "source": [
        "<a href=\"https://colab.research.google.com/github/andreshserna/Practicas-Python/blob/main/Metodos_numericos_aproximacion.ipynb\" target=\"_parent\"><img src=\"https://colab.research.google.com/assets/colab-badge.svg\" alt=\"Open In Colab\"/></a>"
      ]
    },
    {
      "cell_type": "markdown",
      "metadata": {
        "id": "mmuYyxAtH0I7"
      },
      "source": [
        "El metodo de solucion, para las EDO, que utilice en Python fue la biblioteca de SYMPY que lograba solucionar todas las ecuaciones diferenciales"
      ]
    },
    {
      "cell_type": "code",
      "source": [],
      "metadata": {
        "id": "QTfLNEb3U-r_"
      },
      "execution_count": null,
      "outputs": []
    },
    {
      "cell_type": "code",
      "metadata": {
        "id": "bsNKZTmtA5XA"
      },
      "source": [
        "#Importamos las librerias necesarias para el codigo.\n",
        "#Esta primera linea nos permite que Python  con ayuda de \n",
        "# sympy vaya escribiendo todo en lenguaje matematico.\n",
        "from sympy.interactive import printing\n",
        "printing.init_printing(use_latex=True)\n",
        "from sympy import *\n",
        "import numpy as np\n",
        "import sympy as sp\n",
        "import math\n"
      ],
      "execution_count": null,
      "outputs": []
    },
    {
      "cell_type": "markdown",
      "metadata": {
        "id": "prTinCGaEGtR"
      },
      "source": [
        "Un instrumento importante en la investigación arqueológica es la determinación de fechas por radiocarbono, que es un medio para determinar la antigüedad de ciertos restos de madera y plantas y, por tanto, de huesos humanos o de animales o artefactos encontrados a la misma profundidad. El procedimiento fue desarrollado por el químico estadounidense Willard Libby (1908-1980) a principios de la década de 1950, por lo que fue galardonado con el Premio Nobel de Química en 1960. La determinación de fechas por radiocarbono se basa en el hecho de que algunos restos de madera o plantas, siguen conteniendo cantidades residuales de carbono 14,un isótopo radiactivo del carbono. Este isótopo se acumula durante la vida de la planta y comienza a decaer a la muerte de ésta. Como lavida media del carbono14 es larga (aproximadamente de 5 568 años), despuésde muchos miles de años permanecen cantidades mensurables de carbono 14. Libby demostró quesi incluso está presente una diminuta fracción de la cantidad original de carbono 14, entonces por medio de mediciones adecuadas de laboratorio puede determinarse con exactitud la proporción de la cantidad original de carbono14 que resta. En otras palabras,si $Q(t)$ es la cantidad de carbono 14en el instante $t$ y $Q$, es la cantidad original, entoncespuede determinarse la razón $Q(t)/Q$, por lo menos si esta cantidad no es demasiado pequeña. Las técnicas de medición actuales permiten ia aplicacicin de este método para periodos de hasta alrededor de 100 O00 años, después delos cuales la cantidad de carbono 14 restante es de más o menos $4 \\times 10^{-6}$ de la cantidad original."
      ]
    },
    {
      "cell_type": "code",
      "metadata": {
        "colab": {
          "base_uri": "https://localhost:8080/",
          "height": 39
        },
        "id": "oAHbkSJpEHFP",
        "outputId": "2ed1caee-5af1-4b3f-d32b-5ec235be0ceb"
      },
      "source": [
        "\n",
        "# Creamos variables para identificar y separar las variables\n",
        "r = symbols('r')\n",
        "f = symbols('f', cls=Function)\n",
        "f(r)\n"
      ],
      "execution_count": null,
      "outputs": [
        {
          "output_type": "execute_result",
          "data": {
            "image/png": "[encoded data removed]",
            "text/latex": "$$f{\\left (r \\right )}$$",
            "text/plain": [
              "f(r)"
            ]
          },
          "metadata": {
            "tags": []
          },
          "execution_count": 14
        }
      ]
    },
    {
      "cell_type": "code",
      "metadata": {
        "colab": {
          "base_uri": "https://localhost:8080/",
          "height": 39
        },
        "id": "ZzcdCBdGEi56",
        "outputId": "e003f075-0fd0-45b5-ec51-354ac249c880"
      },
      "source": [
        "t = symbols('t', real=True)\n",
        "Q = symbols('Q', cls=Function)\n",
        "Q(t)"
      ],
      "execution_count": null,
      "outputs": [
        {
          "output_type": "execute_result",
          "data": {
            "image/png": "[encoded data removed]",
            "text/latex": "$$Q{\\left (t \\right )}$$",
            "text/plain": [
              "Q(t)"
            ]
          },
          "metadata": {
            "tags": []
          },
          "execution_count": 5
        }
      ]
    },
    {
      "cell_type": "code",
      "metadata": {
        "colab": {
          "base_uri": "https://localhost:8080/",
          "height": 39
        },
        "id": "t7dQKvEfEoWB",
        "outputId": "2763dfef-4c7e-4746-dbbb-9dcbd1d52ac8"
      },
      "source": [
        "Q(t).diff(t)"
      ],
      "execution_count": null,
      "outputs": [
        {
          "output_type": "execute_result",
          "data": {
            "image/png": "[encoded data removed]",
            "text/latex": "$$\\frac{d}{d t} Q{\\left (t \\right )}$$",
            "text/plain": [
              "d       \n",
              "──(Q(t))\n",
              "dt      "
            ]
          },
          "metadata": {
            "tags": []
          },
          "execution_count": 6
        }
      ]
    },
    {
      "cell_type": "markdown",
      "metadata": {
        "id": "zDqR9HztEqxl"
      },
      "source": [
        "a) Si supone que $Q$ satisface la ecuación diferencial $Q' = -rQ$, determinar la constante de decaimiento $r$ para el carbono 14.\n",
        "\n",
        "Tenemos que: $Q/dt = -rQ(t) \\rightarrow Q/Q(t) = -rdt $. Sacamos logaritmo natural en ambos lados de la ecuación y obtenemos: $ln(Q(t))=-rt$."
      ]
    },
    {
      "cell_type": "code",
      "metadata": {
        "colab": {
          "base_uri": "https://localhost:8080/",
          "height": 39
        },
        "id": "Ceumf0o9Exxj",
        "outputId": "d6e5f5b7-909b-4c14-ccf4-6c957b18ae2f"
      },
      "source": [
        "eq1 = Eq( ln(4*10**-6), -r*100000)\n",
        "eq1"
      ],
      "execution_count": null,
      "outputs": [
        {
          "output_type": "execute_result",
          "data": {
            "image/png": "[encoded data removed]",
            "text/latex": "$$-12.4292161968444 = - 100000 r$$",
            "text/plain": [
              "-12.4292161968444 = -100000⋅r"
            ]
          },
          "metadata": {
            "tags": []
          },
          "execution_count": 15
        }
      ]
    },
    {
      "cell_type": "code",
      "metadata": {
        "colab": {
          "base_uri": "https://localhost:8080/",
          "height": 37
        },
        "id": "f-10wQ6-E18I",
        "outputId": "c0799464-4987-4fd6-b85b-3313d095f407"
      },
      "source": [
        "solve(eq1,[r])"
      ],
      "execution_count": null,
      "outputs": [
        {
          "output_type": "execute_result",
          "data": {
            "image/png": "[encoded data removed]",
            "text/latex": "$$\\left [ 0.000124292161968444\\right ]$$",
            "text/plain": [
              "[0.000124292161968444]"
            ]
          },
          "metadata": {
            "tags": []
          },
          "execution_count": 9
        }
      ]
    },
    {
      "cell_type": "markdown",
      "metadata": {
        "id": "0ZoUsmjeE8lV"
      },
      "source": [
        "EntonCES R es 0.00012\n",
        "Continuando con el enunciado:\n",
        "b) Halle una expresión para $Q(t)$ en cualquier instante $t$, si $Q(0)= Q_0$."
      ]
    },
    {
      "cell_type": "code",
      "metadata": {
        "colab": {
          "base_uri": "https://localhost:8080/",
          "height": 39
        },
        "id": "el9_vI2RFQAy",
        "outputId": "6cfa54d4-29d6-4071-ec5c-f4cdc7690d22"
      },
      "source": [
        "eq_dif= Eq(Q(t).diff(t), -(0.0001242)*Q(t))\n",
        "eq_dif"
      ],
      "execution_count": null,
      "outputs": [
        {
          "output_type": "execute_result",
          "data": {
            "image/png": "[encoded data removed]",
            "text/latex": "$$\\frac{d}{d t} Q{\\left (t \\right )} = - 0.0001242 Q{\\left (t \\right )}$$",
            "text/plain": [
              "d                         \n",
              "──(Q(t)) = -0.0001242⋅Q(t)\n",
              "dt                        "
            ]
          },
          "metadata": {
            "tags": []
          },
          "execution_count": 10
        }
      ]
    },
    {
      "cell_type": "code",
      "metadata": {
        "colab": {
          "base_uri": "https://localhost:8080/",
          "height": 39
        },
        "id": "HiQrJaguFSjv",
        "outputId": "314a8b8d-56f3-4632-d4f2-3d3d12486f84"
      },
      "source": [
        "dsolve(eq_dif,Q(t))"
      ],
      "execution_count": null,
      "outputs": [
        {
          "output_type": "execute_result",
          "data": {
            "image/png": "[encoded data removed]",
            "text/latex": "$$Q{\\left (t \\right )} = C_{1} e^{- 0.0001242 t}$$",
            "text/plain": [
              "           -0.0001242⋅t\n",
              "Q(t) = C₁⋅ℯ            "
            ]
          },
          "metadata": {
            "tags": []
          },
          "execution_count": 11
        }
      ]
    },
    {
      "cell_type": "markdown",
      "metadata": {
        "id": "5h3IuBzGFUds"
      },
      "source": [
        "c) Suponga que se descubren ciertos restos en los que la cantidad residual presente de carbono 14 es el 20% de la cantidad original. Determine la antigüedad de estos restos.\n",
        "\n"
      ]
    },
    {
      "cell_type": "code",
      "metadata": {
        "colab": {
          "base_uri": "https://localhost:8080/",
          "height": 39
        },
        "id": "MzqBGFMHFW5A",
        "outputId": "5a553e34-dfa5-4b29-b3c2-15b7c54d35c9"
      },
      "source": [
        "eq2 = Eq(0.2, exp(-0.0001242*t))\n",
        "eq2"
      ],
      "execution_count": null,
      "outputs": [
        {
          "output_type": "execute_result",
          "data": {
            "image/png": "[encoded data removed]",
            "text/latex": "$$0.2 = e^{- 0.0001242 t}$$",
            "text/plain": [
              "       -0.0001242⋅t\n",
              "0.2 = ℯ            "
            ]
          },
          "metadata": {
            "tags": []
          },
          "execution_count": 12
        }
      ]
    },
    {
      "cell_type": "code",
      "metadata": {
        "colab": {
          "base_uri": "https://localhost:8080/",
          "height": 37
        },
        "id": "N_9ulwRoFZ4Z",
        "outputId": "adacfc10-7f28-4b99-d2f4-6fd67f2b0026"
      },
      "source": [
        "solve(eq2,t)"
      ],
      "execution_count": null,
      "outputs": [
        {
          "output_type": "execute_result",
          "data": {
            "image/png": "[encoded data removed]",
            "text/latex": "$$\\left [ 12958.4372981812\\right ]$$",
            "text/plain": [
              "[12958.4372981812]"
            ]
          },
          "metadata": {
            "tags": []
          },
          "execution_count": 13
        }
      ]
    },
    {
      "cell_type": "markdown",
      "metadata": {
        "id": "4xl85oyfHAVa"
      },
      "source": [
        "Así, los restos tienen 12958.43 años aproximadamente."
      ]
    }
  ]
}